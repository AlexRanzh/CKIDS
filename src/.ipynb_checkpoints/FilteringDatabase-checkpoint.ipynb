{
 "cells": [
  {
   "cell_type": "code",
   "execution_count": 84,
   "metadata": {},
   "outputs": [],
   "source": "import pymongo\nfrom bson.objectid import ObjectId\nfrom polyglot.detect import Detector"
  },
  {
   "cell_type": "code",
   "execution_count": 85,
   "metadata": {},
   "outputs": [],
   "source": "DB_USER = \"ckids_user\"\nDB_PASS = \"Ck!ds#User123\"\nDB_NAME = \"zenodo_artifacts\"\nHOST = \"54.67.82.172\"\nPORT = \"27017\"\n\nclient = pymongo.MongoClient(\"mongodb://{DB_USER}:{DB_PASS}@{HOST}:{PORT}/{DB_NAME}\".format(\n        DB_USER=DB_USER, DB_PASS=DB_PASS, HOST=HOST, PORT=PORT, DB_NAME=DB_NAME))\ndb = client[DB_NAME]"
  },
  {
   "cell_type": "code",
   "execution_count": 131,
   "metadata": {},
   "outputs": [],
   "source": "# langs = {}\n# for doc in db.raw_artifacts.find():\n#     try:\n#         lang = Detector(doc[\"title\"]).language.code\n#     except Exception as e:\n#         print(e)\n#         lang = \"not_detected\"\n    \n#     if lang in langs:\n#         langs[lang] += 1\n#     else:\n#         langs[lang] = 1\n#     if lang != 'en':\n#         print(lang + \" \" + doc[\"title\"])"
  },
  {
   "cell_type": "code",
   "execution_count": 92,
   "metadata": {},
   "outputs": [
    {
     "data": {
      "text/plain": "{'en': 277810,\n 'es': 933,\n 'hi': 8,\n 'de': 8084,\n 'la': 739,\n 'is': 32,\n 'pt': 605,\n 'na': 14,\n 'qu': 71,\n 'it': 319,\n 'da': 695,\n 'pl': 495,\n 'fr': 2121,\n 'nl': 318,\n 'ga': 103,\n 'eu': 80,\n 'uk': 1496,\n 'ms': 321,\n 'ie': 134,\n 'tr': 397,\n 'id': 1588,\n 'rm': 70,\n 'ru': 752,\n 'fi': 88,\n 'sv': 47,\n 'sk': 122,\n 'ro': 222,\n 'lt': 68,\n 'ia': 86,\n 'gl': 142,\n 'sm': 31,\n 'za': 32,\n 'nn': 110,\n 'sco': 75,\n 'ny': 39,\n 'gv': 74,\n 'oc': 64,\n 'el': 27,\n 'rn': 9,\n 'war': 96,\n 'sr': 54,\n 'hu': 64,\n 'no': 107,\n 'mi': 19,\n 'mg': 88,\n 'not_detected': 606,\n 'br': 69,\n 'zzp': 98,\n 'tl': 33,\n 'hmn': 29,\n 'lv': 41,\n 'bi': 38,\n 'om': 42,\n 'ss': 18,\n 'sa': 148,\n 'cs': 126,\n 'fj': 15,\n 'su': 30,\n 'et': 56,\n 'vo': 129,\n 'ca': 61,\n 'ar': 49,\n 'tk': 33,\n 'uz': 79,\n 'mfe': 51,\n 'gn': 77,\n 'tlh': 39,\n 'tn': 33,\n 'gd': 66,\n 'xh': 61,\n 'kha': 64,\n 'ceb': 24,\n 'ja': 6,\n 'crs': 38,\n 'sq': 25,\n 'lg': 20,\n 'co': 40,\n 'ln': 17,\n 'af': 53,\n 'mt': 25,\n 'cy': 114,\n 'lb': 52,\n 'jw': 40,\n 'fy': 38,\n 'bs': 13,\n 'aa': 42,\n 'fo': 19,\n 'ht': 18,\n 'kl': 43,\n 'iw': 3,\n 'ts': 15,\n 'sw': 27,\n 'ak': 19,\n 'st': 37,\n 'vi': 16,\n 'rw': 40,\n 'ky': 1,\n 'bo': 7,\n 'sn': 39,\n 've': 25,\n 'eo': 32,\n 'ha': 30,\n 'zu': 20,\n 'so': 40,\n 'wo': 27,\n 'hr': 16,\n 'ay': 21,\n 'fa': 12,\n 'sl': 36,\n 'az': 17,\n 'ik': 5,\n 'bn': 2,\n 'tt': 19,\n 'haw': 6,\n 'nso': 2,\n 'bg': 8,\n 'yo': 4,\n 'to': 20,\n 'zh_Hant': 1,\n 'ig': 3,\n 'kk': 2,\n 'ta': 7,\n 'mk': 1,\n 'my': 3,\n 'zh': 2,\n 'sg': 1}"
     },
     "execution_count": 92,
     "metadata": {},
     "output_type": "execute_result"
    }
   ],
   "source": "langs"
  },
  {
   "cell_type": "code",
   "execution_count": 132,
   "metadata": {},
   "outputs": [],
   "source": "# docs_to_remove = []\n# for doc in db.raw_artifacts.find():\n#     try:\n#         lang = Detector(doc[\"title\"]).language.code\n#     except Exception as e:\n#         print(e)\n#         lang = \"not_detected\"\n# #         print(str(doc[\"_id\"]) + \" \" + doc[\"title\"])\n    \n#     if lang != \"en\":\n#         docs_to_remove.append(doc[\"_id\"])"
  },
  {
   "cell_type": "code",
   "execution_count": 110,
   "metadata": {},
   "outputs": [
    {
     "data": {
      "text/plain": "606"
     },
     "execution_count": 110,
     "metadata": {},
     "output_type": "execute_result"
    }
   ],
   "source": "len(docs_to_remove)"
  },
  {
   "cell_type": "code",
   "execution_count": 111,
   "metadata": {},
   "outputs": [
    {
     "name": "stdout",
     "output_type": "stream",
     "text": "606 documents deleted\n"
    }
   ],
   "source": "count = 0\nfor doc in docs_to_remove:\n    x = db.raw_artifacts.delete_one({\"_id\": doc})\n    count = count + x.deleted_count\nprint(\"{} documents deleted\".format(count))"
  },
  {
   "cell_type": "code",
   "execution_count": 125,
   "metadata": {},
   "outputs": [],
   "source": "from bson import Code\n\ndef get_keys():\n    mapper = Code(\"function() { for (var key in this) { emit(key, null); } }\")\n    reducer = Code(\"function(key, stuff) { return null; }\")\n    result = db.raw_artifacts.map_reduce(mapper, reducer, out = {'inline' : 1}, full_response = True)\n    return result"
  },
  {
   "cell_type": "code",
   "execution_count": 126,
   "metadata": {},
   "outputs": [
    {
     "data": {
      "text/plain": "{'results': [{'_id': '_id', 'value': None},\n  {'_id': 'created', 'value': None},\n  {'_id': 'creators', 'value': None},\n  {'_id': 'description', 'value': None},\n  {'_id': 'doi', 'value': None},\n  {'_id': 'files', 'value': None},\n  {'_id': 'keywords', 'value': None},\n  {'_id': 'resource_type', 'value': None},\n  {'_id': 'title', 'value': None}],\n 'timeMillis': 5981,\n 'counts': {'input': 277810, 'emit': 2400994, 'reduce': 25005, 'output': 9},\n 'ok': 1.0}"
     },
     "execution_count": 126,
     "metadata": {},
     "output_type": "execute_result"
    }
   ],
   "source": "get_keys()"
  },
  {
   "cell_type": "code",
   "execution_count": 130,
   "metadata": {},
   "outputs": [
    {
     "data": {
      "text/plain": "{'_id',\n 'created',\n 'creators',\n 'description',\n 'doi',\n 'files',\n 'keywords',\n 'resource_type',\n 'title'}"
     },
     "execution_count": 130,
     "metadata": {},
     "output_type": "execute_result"
    }
   ],
   "source": "from functools import reduce\nreduce(lambda all_keys, rec_keys: all_keys | set(rec_keys), map(lambda d: d.keys(), db.raw_artifacts.find()), set() )"
  },
  {
   "cell_type": "code",
   "execution_count": null,
   "metadata": {},
   "outputs": [],
   "source": ""
  }
 ],
 "metadata": {
  "kernelspec": {
   "display_name": "Python 3.7.4 64-bit",
   "language": "python",
   "name": "python37464bit13a073eb4dfe4367911bc159443719b8"
  },
  "language_info": {
   "codemirror_mode": {
    "name": "ipython",
    "version": 3
   },
   "file_extension": ".py",
   "mimetype": "text/x-python",
   "name": "python",
   "nbconvert_exporter": "python",
   "pygments_lexer": "ipython3",
   "version": "3.7.6"
  }
 },
 "nbformat": 4,
 "nbformat_minor": 4
}
