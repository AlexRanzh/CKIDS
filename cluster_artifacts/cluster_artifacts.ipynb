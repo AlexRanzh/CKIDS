{
 "cells": [
  {
   "cell_type": "code",
   "execution_count": 3,
   "metadata": {},
   "outputs": [],
   "source": [
    "import pandas as pd\n",
    "from sklearn.feature_extraction.text import TfidfVectorizer\n",
    "import numpy as np\n",
    "import pymongo\n",
    "import argparse\n",
    "from configparser import ConfigParser\n",
    "import os\n",
    "import json"
   ]
  },
  {
   "cell_type": "code",
   "execution_count": 69,
   "metadata": {},
   "outputs": [],
   "source": [
    "import matplotlib.pyplot as plt\n",
    "from sklearn.cluster import KMeans, MiniBatchKMeans"
   ]
  },
  {
   "cell_type": "raw",
   "metadata": {},
   "source": [
    "Goal:\n",
    "    cluster1(kw1): [art_id1, art_id3,....]\n",
    "    cluster2(kw2): [art_id2, ...]\n",
    "    ...(kw...):[..]"
   ]
  },
  {
   "cell_type": "markdown",
   "metadata": {},
   "source": [
    "## Connect to MongoDB"
   ]
  },
  {
   "cell_type": "code",
   "execution_count": 4,
   "metadata": {},
   "outputs": [],
   "source": [
    "config = ConfigParser()\n",
    "pardir = os.getcwd()\n",
    "config.read('secrets.ini')\n",
    "DB_USER = config['MONGODB']['CKIDS_USER']\n",
    "DB_PASS = config['MONGODB']['CKIDS_PASS']\n",
    "DB_NAME = config['MONGODB']['CKIDS_DB_NAME']\n",
    "HOST = config['AWS']['HOST_IP']\n",
    "PORT = config['AWS']['HOST_PORT']\n",
    "client = pymongo.MongoClient(\"mongodb://{DB_USER}:{DB_PASS}@{HOST}:{PORT}/{DB_NAME}\".format(\n",
    "    DB_USER=DB_USER, DB_PASS=DB_PASS, HOST=HOST, PORT=PORT, DB_NAME=DB_NAME))\n",
    "db = client[DB_NAME]\n",
    "collection = db[\"raw_artifacts\"]\n",
    "result = collection.find()"
   ]
  },
  {
   "cell_type": "code",
   "execution_count": 5,
   "metadata": {},
   "outputs": [],
   "source": [
    "objID_data = {}\n",
    "for obj in result:\n",
    "    description = obj['description']\n",
    "#     if description != '':\n",
    "#         description_data += [description]\n",
    "    try:\n",
    "        keywords = ' '.join(obj['keywords'])\n",
    "    except KeyError:\n",
    "        keywords = ''\n",
    "        None\n",
    "#     keywords_data += [keywords]    \n",
    "    title = obj['title']\n",
    "#     if title != '':\n",
    "#         title_data += [title]\n",
    "    objID_data[obj['_id']] = title+' '+description+' '+keywords"
   ]
  },
  {
   "cell_type": "markdown",
   "metadata": {},
   "source": [
    "## Approach 1. cluster by pre-defined kw groups"
   ]
  },
  {
   "cell_type": "markdown",
   "metadata": {},
   "source": [
    "1. manually group keywords into say 10 clusters\n",
    "2. if a artifact has  one(or N tbd.) of the keyword in one of the clusters, then this artifact can be assigned in this cluster.(soft clustering)"
   ]
  },
  {
   "cell_type": "markdown",
   "metadata": {},
   "source": [
    "## Approach 2. TFIDF + kmeans cluster  "
   ]
  },
  {
   "cell_type": "markdown",
   "metadata": {},
   "source": [
    "### Process Text for Clustering"
   ]
  },
  {
   "cell_type": "code",
   "execution_count": 6,
   "metadata": {},
   "outputs": [],
   "source": [
    "kw_csv = pd.read_csv('final_kw_list.csv', index_col=0)\n",
    "term_list = list(kw_csv[\"Other_word_to_match\"].str.split(', '))"
   ]
  },
  {
   "cell_type": "code",
   "execution_count": 107,
   "metadata": {
    "scrolled": true
   },
   "outputs": [
    {
     "name": "stdout",
     "output_type": "stream",
     "text": [
      "(277810, 183)\n"
     ]
    }
   ],
   "source": [
    "corpus = list(objID_data.values())\n",
    "vectorizer = TfidfVectorizer(vocabulary=[t[0] for t in term_list])\n",
    "X = vectorizer.fit_transform(corpus)\n",
    "print(X.shape)"
   ]
  },
  {
   "cell_type": "markdown",
   "metadata": {},
   "source": [
    "###  Kmeans  Clustering"
   ]
  },
  {
   "cell_type": "code",
   "execution_count": 109,
   "metadata": {},
   "outputs": [],
   "source": [
    "k = 20\n",
    "km = KMeans(n_clusters=k, init='k-means++', tol=1e-3, max_iter=500)\n",
    "km.fit(X)\n",
    "pred = km.predict(X)"
   ]
  },
  {
   "cell_type": "code",
   "execution_count": 88,
   "metadata": {
    "scrolled": true
   },
   "outputs": [
    {
     "data": {
      "text/plain": [
       "<BarContainer object of 20 artists>"
      ]
     },
     "execution_count": 88,
     "metadata": {},
     "output_type": "execute_result"
    },
    {
     "data": {
      "image/png": "[encoded data removed]",
      "text/plain": [
       "<Figure size 432x288 with 1 Axes>"
      ]
     },
     "metadata": {
      "needs_background": "light"
     },
     "output_type": "display_data"
    }
   ],
   "source": [
    "plt.bar(list(pd.value_counts(pred).index), list(pd.value_counts(pred)))"
   ]
  },
  {
   "cell_type": "code",
   "execution_count": 112,
   "metadata": {},
   "outputs": [
    {
     "name": "stdout",
     "output_type": "stream",
     "text": [
      "Cluster 0: integrity privacy flood vulnerability exploit\n",
      "Cluster 1: network key security virtualization vector\n",
      "Cluster 2: key security network challenge integrity\n",
      "Cluster 3: challenge key network security protection\n",
      "Cluster 4: isolation key network robust reverse\n",
      "Cluster 5: vector network key robust security\n",
      "Cluster 6: security network key privacy authentication\n",
      "Cluster 7: website network key exploit password\n",
      "Cluster 8: protection security key network privacy\n",
      "Cluster 9: robust network key challenge protection\n",
      "Cluster 10: safe key protection challenge security\n",
      "Cluster 11: virus key vector reverse protection\n",
      "Cluster 12: perception key challenge network security\n",
      "Cluster 13: patch key network robust isolation\n",
      "Cluster 14: reverse key network challenge robust\n",
      "Cluster 15: mitigation network key security challenge\n",
      "Cluster 16: verification network authentication key security\n",
      "Cluster 17: bug key patch website network\n",
      "Cluster 18: leakage key network protection safe\n",
      "Cluster 19: attack security network key defense\n"
     ]
    }
   ],
   "source": [
    "order_centroids = km.cluster_centers_.argsort()[:, ::-1]\n",
    "terms = vectorizer.get_feature_names()\n",
    "for i in range(k):\n",
    "    print(\"Cluster %d:\" % i, end='')\n",
    "    for ind in order_centroids[i, :5]:\n",
    "        print(' %s' % terms[ind], end='')\n",
    "    print()"
   ]
  },
  {
   "cell_type": "code",
   "execution_count": 91,
   "metadata": {},
   "outputs": [],
   "source": [
    "l = [str(o) for o in objID_data.keys()]\n",
    "relatedTo_clusters = dict(zip(l, list(str(p) for  p in pred)))"
   ]
  },
  {
   "cell_type": "code",
   "execution_count": 104,
   "metadata": {
    "scrolled": true
   },
   "outputs": [],
   "source": [
    "with open('RelatedTo_clusters.json', 'w') as f:\n",
    "    json.dump(relatedTo_clusters, f)"
   ]
  },
  {
   "cell_type": "code",
   "execution_count": 105,
   "metadata": {},
   "outputs": [],
   "source": [
    "with open('RelatedTo_clusters.json') as f:\n",
    "    d = json.load(f)"
   ]
  }
 ],
 "metadata": {
  "kernelspec": {
   "display_name": "Python 3",
   "language": "python",
   "name": "python3"
  },
  "language_info": {
   "codemirror_mode": {
    "name": "ipython",
    "version": 3
   },
   "file_extension": ".py",
   "mimetype": "text/x-python",
   "name": "python",
   "nbconvert_exporter": "python",
   "pygments_lexer": "ipython3",
   "version": "3.7.1"
  }
 },
 "nbformat": 4,
 "nbformat_minor": 2
}
