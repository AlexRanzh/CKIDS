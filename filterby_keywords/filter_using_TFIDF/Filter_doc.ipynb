{
 "cells": [
  {
   "cell_type": "markdown",
   "metadata": {},
   "source": [
    "# filter_using_TFIDF Documentation\n",
    "\n",
    "Zihuan Ran: zran@usc.edu\n",
    "\n",
    "April 2020"
   ]
  },
  {
   "cell_type": "markdown",
   "metadata": {},
   "source": [
    "The aim of this document is to give users details about `filter_using_TFIDF` repository, including what it does, how to use it, and possible improvement."
   ]
  },
  {
   "cell_type": "markdown",
   "metadata": {},
   "source": [
    "Dependencies: \n",
    "\n",
    "    pandas, numpy, pymongo, configparser, matplotlib.pyplot; \n",
    "\n",
    "    final_kw_list.csv, resources/secrets.ini"
   ]
  },
  {
   "cell_type": "markdown",
   "metadata": {},
   "source": [
    "## 1 Background"
   ]
  },
  {
   "cell_type": "markdown",
   "metadata": {},
   "source": [
    "In information retrieval, tf–idf or TFIDF, short for term frequency–inverse document frequency, is a numerical statistic that is intended to reflect how important a word is to a document in a collection or corpus.\n",
    "\n",
    "The tf–idf is the product of two statistics, term frequency and inverse document frequency. There are various ways for determining the exact values of both statistics.\n",
    "\n",
    "Here we use \n",
    "\n",
    "$${\\displaystyle \\mathrm {tfidf} (t,d,D)=\\mathrm {tf} (t,d)\\cdot \\mathrm {idf} (t,D)}$$\n",
    "\n",
    "Term frequency:\n",
    "\n",
    "$$tf(t,d) = f_{t,d}\\ the\\ frequency\\ of\\ term\\ t\\ in\\ document\\ d\\$$\n",
    "\n",
    "Probabilistic inverse document frequency:\n",
    "\n",
    "$$ \\mathrm{idf}(t, D) = {\\displaystyle \\log {\\frac {N-n_{t}}{n_{t}}}}$$\n",
    "\n",
    "with\n",
    "\n",
    "$${\\displaystyle N}:\\ total\\ number\\ of\\ documents\\ in\\ the\\ corpus.$$\n",
    "\n",
    "$$n_{t} = {\\displaystyle |\\{d\\in D:t\\in d\\}|}:\\ number\\ of\\ documents\\ where\\ the\\ term\\ {\\displaystyle t}\\ appears$$\n"
   ]
  },
  {
   "cell_type": "markdown",
   "metadata": {},
   "source": [
    "The **relevance score** $R$ is the aim of this repository, which is defined to be:\n",
    "\n",
    "$$R(a) = \\sum_{t} (tfidf(t)*(frequency\\ of\\ t\\ in\\ a))\\  ,for\\ a\\ as\\ an\\ artifact$$\n",
    "\n",
    "It works to define the importance of a keyword or phrase within a the database, as a **estimation** of how related it is in Cybersecurity. This will be discussde further in later sections."
   ]
  },
  {
   "cell_type": "markdown",
   "metadata": {},
   "source": [
    "In this project, we are applying TF-IDF score scheme to evaluate **how related is one artifact** in our database."
   ]
  },
  {
   "cell_type": "markdown",
   "metadata": {},
   "source": [
    "## 2 Usage"
   ]
  },
  {
   "cell_type": "markdown",
   "metadata": {},
   "source": [
    "The script `filter_using_TFIDF.py` has execution format: \n",
    "\n",
    "`python filter_TF-IDF.py`\n",
    "    \n",
    "The TFIDF score for keywords will be in file: `final_kw_TFIDF_Score.csv`\n",
    "The relevance result will be in json file: `final_filter_TFIDF_result.json`\n",
    "The result is in the format of `{\"_id\": relevance score}`\n",
    "The program also automatically generate a CDF figure: `rlv_score_cdf.png`"
   ]
  },
  {
   "cell_type": "markdown",
   "metadata": {},
   "source": [
    "The jupyter notebook `Filter_using_TFIDF.ipynb` does similar work as specified in itself, but with an extra use of producing samples with scores for manual check. For detail please refer to `Filter_using_TFIDF.ipynb`, section **Generate samples**."
   ]
  },
  {
   "cell_type": "markdown",
   "metadata": {},
   "source": [
    "## 3 Results"
   ]
  },
  {
   "cell_type": "code",
   "execution_count": 1,
   "metadata": {},
   "outputs": [],
   "source": [
    "import pandas as pd\n",
    "import json"
   ]
  },
  {
   "cell_type": "code",
   "execution_count": 2,
   "metadata": {},
   "outputs": [],
   "source": [
    "with open('final_filter_TFIDF_result.json') as f:\n",
    "    data = json.load(f)"
   ]
  },
  {
   "cell_type": "markdown",
   "metadata": {},
   "source": [
    "Examples:\n",
    "```\n",
    "{'5e5fd5726dc9c2e22610ca33': 10.24767956100582,\n",
    " '5e5fd5726dc9c2e22610ca35': 0.0,\n",
    " '5e5fd5726dc9c2e22610ca3b': 7.1031021197942525,\n",
    " '5e5fd5726dc9c2e22610ca3e': 11.618451817838762,\n",
    " ...}\n",
    "```"
   ]
  },
  {
   "cell_type": "markdown",
   "metadata": {},
   "source": [
    "Below is the cumulative density figure for cummulative count vs. the log relevance score.\n",
    "\n",
    "Most keywords has a relevance score equals or below 3e+10, so it is reasonable to take log of the score."
   ]
  },
  {
   "cell_type": "markdown",
   "metadata": {},
   "source": [
    "![CDF](rlv_score_cdf.png)"
   ]
  },
  {
   "cell_type": "markdown",
   "metadata": {},
   "source": [
    "## 4 Future Improvment"
   ]
  },
  {
   "cell_type": "markdown",
   "metadata": {},
   "source": [
    "* As mentioned in 'Background' section above, this way of generating relevance scores has a systematic problem:\n",
    "\n",
    "We are using *importance of Cybersecurity keywords in the **unfilterd** database* to represent the *effectiveness of distinguishing CS-related content*. This approach is useful and efficient in covering all data in the database, but it also goes into a loop where **the more CS-related the database is, the better keywords'scores performs**, hence the better the filter will be.\n",
    "\n",
    "One possible solution is to manually check file `final_kw_TFIDF_Score.csv` and see if the more CS-specific words does has better scores, and maybe some further human tuning. \n",
    "\n",
    "However, please note that this is by no means the only solution."
   ]
  }
 ],
 "metadata": {
  "kernelspec": {
   "display_name": "Python 3",
   "language": "python",
   "name": "python3"
  },
  "language_info": {
   "codemirror_mode": {
    "name": "ipython",
    "version": 3
   },
   "file_extension": ".py",
   "mimetype": "text/x-python",
   "name": "python",
   "nbconvert_exporter": "python",
   "pygments_lexer": "ipython3",
   "version": "3.7.1"
  }
 },
 "nbformat": 4,
 "nbformat_minor": 2
}
